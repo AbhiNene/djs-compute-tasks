{
  "nbformat": 4,
  "nbformat_minor": 0,
  "metadata": {
    "colab": {
      "provenance": [],
      "authorship_tag": "ABX9TyNdXhk9Nr9+WuHkdwBsY9Do",
      "include_colab_link": true
    },
    "kernelspec": {
      "name": "python3",
      "display_name": "Python 3"
    },
    "language_info": {
      "name": "python"
    }
  },
  "cells": [
    {
      "cell_type": "markdown",
      "metadata": {
        "id": "view-in-github",
        "colab_type": "text"
      },
      "source": [
        "<a href=\"https://colab.research.google.com/github/AbhiNene/djs-compute-tasks/blob/main/EXP_3.ipynb\" target=\"_parent\"><img src=\"https://colab.research.google.com/assets/colab-badge.svg\" alt=\"Open In Colab\"/></a>"
      ]
    },
    {
      "cell_type": "code",
      "execution_count": 10,
      "metadata": {
        "colab": {
          "base_uri": "https://localhost:8080/"
        },
        "id": "0TleJyjvZp0v",
        "outputId": "e77f6128-1a5c-483f-e25f-3f065b747e31"
      },
      "outputs": [
        {
          "output_type": "stream",
          "name": "stdout",
          "text": [
            "Name:Abhishek Madhav Nene\n",
            "Roll No: E006   Sap Id:60002231106 \n",
            "\n",
            "Div: E-1        Subject: Python\n",
            "Enter a Number:45\n",
            "45 It is Not a Prime Number\n"
          ]
        }
      ],
      "source": [
        "print(\"Name:Abhishek Madhav Nene\")\n",
        "print(\"Roll No: E006   Sap Id:60002231106 \\n\")\n",
        "print(\"Div: E-1        Subject: Python\")\n",
        "a=int (input(\"Enter a Number:\"))\n",
        "is_prime= True\n",
        "if a>1:\n",
        "     i=2\n",
        "     while i<=a/2:\n",
        "         if a%1==0:\n",
        "              is_prime= False\n",
        "              break\n",
        "         i=i+1\n",
        "\n",
        "     if is_prime:\n",
        "           print(f\"{a} It is a Prime Number\")\n",
        "     else:\n",
        "           print(f\"{a} It is Not a Prime Number\")\n",
        "else:\n",
        "      print(\"It is not  A Prime Number\")"
      ]
    },
    {
      "cell_type": "code",
      "source": [
        "print(\"Name:Abhishek Madhav Nene\")\n",
        "print(\"Roll No: E006   Sap Id:60002231106 \\n\")\n",
        "print(\"Div: E-1        Subject: Python\")\n",
        "def check_voting_eligibility(age, is_citizen):\n",
        "    if age >= 18 and is_citizen:\n",
        "        print(\"Eligible to Vote\")\n",
        "    else:\n",
        "        print(\"Ineligible to  Vote\")\n",
        "age=17\n",
        "is_citizen=True\n",
        "check_voting_eligibility(age,is_citizen)"
      ],
      "metadata": {
        "colab": {
          "base_uri": "https://localhost:8080/"
        },
        "id": "AmtU4dmpeR1c",
        "outputId": "97e8631f-b7ee-4d7a-a5b2-23fd16644f92"
      },
      "execution_count": 11,
      "outputs": [
        {
          "output_type": "stream",
          "name": "stdout",
          "text": [
            "Name:Abhishek Madhav Nene\n",
            "Roll No: E006   Sap Id:60002231106 \n",
            "\n",
            "Div: E-1        Subject: Python\n",
            "Ineligible to  Vote\n"
          ]
        }
      ]
    },
    {
      "cell_type": "code",
      "source": [
        "print(\"Name:Abhishek Madhav Nene\")\n",
        "print(\"Roll No: E006   Sap Id:60002231106 \\n\")\n",
        "print(\"Div: E-1        Subject: Python\")\n",
        "def fibonacci(n):\n",
        "    a=0\n",
        "    b=1\n",
        "    print(a)\n",
        "\n",
        "    i=1\n",
        "    while i<n:\n",
        "      c=a+b\n",
        "      print(c)\n",
        "      a=b\n",
        "      b=c\n",
        "      i+=1\n",
        "num=9\n",
        "fibonacci(n)"
      ],
      "metadata": {
        "colab": {
          "base_uri": "https://localhost:8080/"
        },
        "id": "Gip7NiXSe1Ov",
        "outputId": "8a9563c2-57b4-49d0-c412-53716efd6c97"
      },
      "execution_count": 31,
      "outputs": [
        {
          "output_type": "stream",
          "name": "stdout",
          "text": [
            "Name:Abhishek Madhav Nene\n",
            "Roll No: E006   Sap Id:60002231106 \n",
            "\n",
            "Div: E-1        Subject: Python\n",
            "0\n",
            "1\n",
            "2\n",
            "3\n",
            "5\n",
            "8\n",
            "13\n",
            "21\n"
          ]
        }
      ]
    }
  ]
}